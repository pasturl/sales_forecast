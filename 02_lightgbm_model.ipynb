{
 "cells": [
  {
   "cell_type": "code",
   "execution_count": 1,
   "metadata": {
    "ExecuteTime": {
     "end_time": "2022-01-30T15:35:23.464627Z",
     "start_time": "2022-01-30T15:35:23.007773Z"
    }
   },
   "outputs": [],
   "source": [
    "import pandas as pd\n",
    "import lightgbm as lgb\n",
    "import matplotlib.pyplot as plt\n",
    "import seaborn as sns\n",
    "import plotly.graph_objects as go\n",
    "from plotly.subplots import make_subplots\n",
    "from utils import *\n"
   ]
  },
  {
   "cell_type": "code",
   "execution_count": 2,
   "metadata": {
    "ExecuteTime": {
     "end_time": "2022-01-30T15:35:23.480384Z",
     "start_time": "2022-01-30T15:35:23.465915Z"
    }
   },
   "outputs": [],
   "source": [
    "path_m5 = \"./\"\n",
    "df_all = pd.read_csv(path_m5+\"sales_ms_all_prophet.csv\")\n",
    "df_cat = pd.read_csv(path_m5+\"sales_ms_cat_prophet.csv\")"
   ]
  },
  {
   "cell_type": "code",
   "execution_count": 3,
   "metadata": {
    "ExecuteTime": {
     "end_time": "2022-01-30T15:35:23.483831Z",
     "start_time": "2022-01-30T15:35:23.481662Z"
    }
   },
   "outputs": [],
   "source": [
    "split_date = \"2015-05-01\""
   ]
  },
  {
   "cell_type": "code",
   "execution_count": 4,
   "metadata": {
    "ExecuteTime": {
     "end_time": "2022-01-30T15:35:23.487776Z",
     "start_time": "2022-01-30T15:35:23.485538Z"
    }
   },
   "outputs": [],
   "source": [
    "target = 'error'"
   ]
  },
  {
   "cell_type": "code",
   "execution_count": 62,
   "metadata": {
    "ExecuteTime": {
     "end_time": "2022-01-30T15:38:21.321690Z",
     "start_time": "2022-01-30T15:38:21.318600Z"
    }
   },
   "outputs": [],
   "source": [
    "variables_constrains = {}\n",
    "variables_constrains['discount_pct'] = 1\n",
    "variables_constrains['sell_price'] = -1\n",
    "variables_constrains['full_price'] = -1\n",
    "variables_constrains['yhat'] = 0\n",
    "variables_constrains['yhat_lower'] = 0\n",
    "variables_constrains['yhat_upper'] = 0\n",
    "variables_constrains['wday'] = 0\n",
    "variables_constrains['month'] = 0\n",
    "variables = list(variables_constrains.keys())\n",
    "monotonic_vector = list(variables_constrains.values())"
   ]
  },
  {
   "cell_type": "code",
   "execution_count": 63,
   "metadata": {
    "ExecuteTime": {
     "end_time": "2022-01-30T15:38:21.535033Z",
     "start_time": "2022-01-30T15:38:21.531222Z"
    }
   },
   "outputs": [],
   "source": [
    "df_train = df_all[df_all[\"ds\"]<split_date]\n",
    "df_test = df_all[df_all[\"ds\"]>=split_date]"
   ]
  },
  {
   "cell_type": "code",
   "execution_count": 64,
   "metadata": {
    "ExecuteTime": {
     "end_time": "2022-01-30T15:38:21.692223Z",
     "start_time": "2022-01-30T15:38:21.687141Z"
    }
   },
   "outputs": [],
   "source": [
    "df_train = df_cat[df_cat[\"ds\"]<split_date]\n",
    "df_test = df_cat[df_cat[\"ds\"]>=split_date]"
   ]
  },
  {
   "cell_type": "code",
   "execution_count": 65,
   "metadata": {
    "ExecuteTime": {
     "end_time": "2022-01-30T15:38:21.858873Z",
     "start_time": "2022-01-30T15:38:21.854559Z"
    }
   },
   "outputs": [],
   "source": [
    "dtrain = lgb.Dataset(df_train[variables], label=df_train[target].values,\n",
    "                      feature_name=variables, free_raw_data=False)  \n",
    "dvalid = lgb.Dataset(df_test[variables], label=df_test[target].values,\n",
    "                      feature_name=variables, free_raw_data=False)"
   ]
  },
  {
   "cell_type": "code",
   "execution_count": 80,
   "metadata": {
    "ExecuteTime": {
     "end_time": "2022-01-30T15:39:13.216281Z",
     "start_time": "2022-01-30T15:39:13.213143Z"
    }
   },
   "outputs": [],
   "source": [
    "lgb_params = {\n",
    "        'boosting_type': 'gbdt',\n",
    "        'objective': 'regression',\n",
    "        'monotone_constraints' : monotonic_vector,\n",
    "        'metric':'rmse',\n",
    "        'learning_rate': 0.01,\n",
    "        'num_leaves': 31,  # we should let it be smaller than 2^(max_depth)\n",
    "        'max_depth': -1,  # -1 means no limit\n",
    "        'min_child_samples': 5,  # Minimum number of data need in a child(min_data_in_leaf)\n",
    "        'max_bin': 255,  # Number of bucketed bin for feature values\n",
    "        'subsample': 0.8,  # Subsample ratio of the training instance.\n",
    "        'colsample_bytree': 0.8,  # Subsample ratio of columns when constructing each tree.\n",
    "        'min_child_weight': 1,  # Minimum sum of instance weight(hessian) needed in a child(leaf)\n",
    "        #'subsample_for_bin': 20000,  # Number of samples for constructing bin\n",
    "        'min_split_gain': 0,  # lambda_l1, lambda_l2 and min_gain_to_split to regularization\n",
    "        'reg_alpha': 0,  # L1 regularization term on weights\n",
    "        'reg_lambda': 0,  # L2 regularization term on weights\n",
    "        'nthread': 8,\n",
    "        'verbose': 0}"
   ]
  },
  {
   "cell_type": "code",
   "execution_count": 81,
   "metadata": {
    "ExecuteTime": {
     "end_time": "2022-01-30T15:39:14.071509Z",
     "start_time": "2022-01-30T15:39:13.581272Z"
    }
   },
   "outputs": [
    {
     "name": "stdout",
     "output_type": "stream",
     "text": [
      "[1]\ttrain's rmse: 1562.11\tvalid's rmse: 1745.86\n",
      "Training until validation scores don't improve for 20 rounds\n",
      "[2]\ttrain's rmse: 1560.98\tvalid's rmse: 1745.48\n",
      "[3]\ttrain's rmse: 1559.65\tvalid's rmse: 1744.5\n",
      "[4]\ttrain's rmse: 1558.54\tvalid's rmse: 1743.93\n",
      "[5]\ttrain's rmse: 1557.35\tvalid's rmse: 1743.34\n",
      "[6]\ttrain's rmse: 1556.2\tvalid's rmse: 1742.81\n",
      "[7]\ttrain's rmse: 1555.09\tvalid's rmse: 1743.07\n",
      "[8]\ttrain's rmse: 1553.9\tvalid's rmse: 1742.68\n",
      "[9]\ttrain's rmse: 1552.97\tvalid's rmse: 1743.4\n",
      "[10]\ttrain's rmse: 1551.79\tvalid's rmse: 1742.48\n",
      "[11]\ttrain's rmse: 1550.87\tvalid's rmse: 1742.88\n",
      "[12]\ttrain's rmse: 1549.76\tvalid's rmse: 1742.48\n",
      "[13]\ttrain's rmse: 1548.62\tvalid's rmse: 1741.6\n",
      "[14]\ttrain's rmse: 1547.42\tvalid's rmse: 1741.22\n",
      "[15]\ttrain's rmse: 1546.46\tvalid's rmse: 1740.75\n",
      "[16]\ttrain's rmse: 1545.42\tvalid's rmse: 1740.3\n",
      "[17]\ttrain's rmse: 1544.41\tvalid's rmse: 1740.2\n",
      "[18]\ttrain's rmse: 1543.48\tvalid's rmse: 1739.84\n",
      "[19]\ttrain's rmse: 1542.63\tvalid's rmse: 1740.08\n",
      "[20]\ttrain's rmse: 1541.79\tvalid's rmse: 1740.03\n",
      "[21]\ttrain's rmse: 1541.16\tvalid's rmse: 1740.12\n",
      "[22]\ttrain's rmse: 1540.3\tvalid's rmse: 1740.11\n",
      "[23]\ttrain's rmse: 1539.36\tvalid's rmse: 1740.06\n",
      "[24]\ttrain's rmse: 1538.28\tvalid's rmse: 1739.8\n",
      "[25]\ttrain's rmse: 1537.33\tvalid's rmse: 1739.71\n",
      "[26]\ttrain's rmse: 1536.73\tvalid's rmse: 1739.9\n",
      "[27]\ttrain's rmse: 1535.88\tvalid's rmse: 1739.62\n",
      "[28]\ttrain's rmse: 1535.02\tvalid's rmse: 1739.44\n",
      "[29]\ttrain's rmse: 1534.37\tvalid's rmse: 1739.51\n",
      "[30]\ttrain's rmse: 1533.55\tvalid's rmse: 1739.59\n",
      "[31]\ttrain's rmse: 1532.91\tvalid's rmse: 1740.35\n",
      "[32]\ttrain's rmse: 1531.96\tvalid's rmse: 1739.64\n",
      "[33]\ttrain's rmse: 1531.12\tvalid's rmse: 1739.8\n",
      "[34]\ttrain's rmse: 1530.25\tvalid's rmse: 1739.92\n",
      "[35]\ttrain's rmse: 1529.46\tvalid's rmse: 1739.71\n",
      "[36]\ttrain's rmse: 1528.57\tvalid's rmse: 1739.95\n",
      "[37]\ttrain's rmse: 1527.89\tvalid's rmse: 1740.67\n",
      "[38]\ttrain's rmse: 1527.04\tvalid's rmse: 1740.78\n",
      "[39]\ttrain's rmse: 1526.33\tvalid's rmse: 1740.78\n",
      "[40]\ttrain's rmse: 1525.58\tvalid's rmse: 1740.96\n",
      "[41]\ttrain's rmse: 1524.74\tvalid's rmse: 1741.21\n",
      "[42]\ttrain's rmse: 1523.92\tvalid's rmse: 1741.48\n",
      "[43]\ttrain's rmse: 1523.18\tvalid's rmse: 1741.41\n",
      "[44]\ttrain's rmse: 1522.36\tvalid's rmse: 1741.64\n",
      "[45]\ttrain's rmse: 1521.68\tvalid's rmse: 1742.14\n",
      "[46]\ttrain's rmse: 1521.01\tvalid's rmse: 1742.39\n",
      "[47]\ttrain's rmse: 1520.25\tvalid's rmse: 1742.22\n",
      "[48]\ttrain's rmse: 1519.54\tvalid's rmse: 1742.47\n",
      "Early stopping, best iteration is:\n",
      "[28]\ttrain's rmse: 1535.02\tvalid's rmse: 1739.44\n"
     ]
    }
   ],
   "source": [
    "evals_results = {}\n",
    "lgb_model = lgb.train(lgb_params, dtrain, valid_sets=[dtrain, dvalid], \n",
    "                      valid_names=['train','valid'], evals_result=evals_results,\n",
    "                      num_boost_round=3000, early_stopping_rounds=20, verbose_eval=1)"
   ]
  },
  {
   "cell_type": "code",
   "execution_count": 82,
   "metadata": {
    "ExecuteTime": {
     "end_time": "2022-01-30T15:39:14.081079Z",
     "start_time": "2022-01-30T15:39:14.072970Z"
    }
   },
   "outputs": [],
   "source": [
    "df_cat['predict_lgb'] = lgb_model.predict(df_cat[variables])\n",
    "df_cat['prediccion_unidades_lgb'] = df_cat['yhat'] + df_cat['predict_lgb']"
   ]
  },
  {
   "cell_type": "code",
   "execution_count": 83,
   "metadata": {
    "ExecuteTime": {
     "end_time": "2022-01-30T15:39:17.247582Z",
     "start_time": "2022-01-30T15:39:17.242312Z"
    }
   },
   "outputs": [
    {
     "name": "stdout",
     "output_type": "stream",
     "text": [
      "Forecast Daily error Prophet category:\n",
      "MAE 914.17\n",
      "MSE 2564099.182\n",
      "RMSE 1601.28\n",
      "MAPE inf\n",
      "SMAPE 0.079\n",
      "MAAPE 0.078\n",
      "R2 0.971\n"
     ]
    }
   ],
   "source": [
    "y_true = df_cat['y'].values\n",
    "y_pred = df_cat['yhat'].values\n",
    "print(\"Forecast Daily error Prophet category:\")\n",
    "print_metrics(y_true, y_pred)"
   ]
  },
  {
   "cell_type": "code",
   "execution_count": 84,
   "metadata": {
    "ExecuteTime": {
     "end_time": "2022-01-30T15:39:17.543723Z",
     "start_time": "2022-01-30T15:39:17.538071Z"
    }
   },
   "outputs": [
    {
     "name": "stdout",
     "output_type": "stream",
     "text": [
      "Forecast Daily error Prophet+LightGBM category:\n",
      "MAE 902.49\n",
      "MSE 2490101.886\n",
      "RMSE 1578.006\n",
      "MAPE inf\n",
      "SMAPE 0.078\n",
      "MAAPE 0.077\n",
      "R2 0.971\n"
     ]
    }
   ],
   "source": [
    "y_true = df_cat['y'].values\n",
    "y_pred = df_cat['prediccion_unidades_lgb'].values\n",
    "print(\"Forecast Daily error Prophet+LightGBM category:\")\n",
    "print_metrics(y_true, y_pred)"
   ]
  },
  {
   "cell_type": "code",
   "execution_count": 85,
   "metadata": {
    "ExecuteTime": {
     "end_time": "2022-01-30T15:39:19.164868Z",
     "start_time": "2022-01-30T15:39:19.161360Z"
    }
   },
   "outputs": [],
   "source": [
    "def plotImp(model, X , num = 20):\n",
    "    feature_imp = pd.DataFrame({'Value':model.feature_importance('gain'),'Feature':X.columns})\n",
    "    sns.set_palette(sns.color_palette(\"tab10\"))\n",
    "    plt.figure(figsize=(10, 8))\n",
    "    sns.barplot(x=\"Value\", y=\"Feature\", data=feature_imp.sort_values(by=\"Value\", \n",
    "                                                        ascending=False)[0:num])\n",
    "    plt.title('LightGBM Features')\n",
    "    plt.tight_layout()\n",
    "    plt.show()"
   ]
  },
  {
   "cell_type": "code",
   "execution_count": 86,
   "metadata": {
    "ExecuteTime": {
     "end_time": "2022-01-30T15:39:19.775995Z",
     "start_time": "2022-01-30T15:39:19.660653Z"
    }
   },
   "outputs": [
    {
     "data": {
      "image/png": "[encoded data removed]",
      "text/plain": [
       "<Figure size 720x576 with 1 Axes>"
      ]
     },
     "metadata": {
      "needs_background": "light"
     },
     "output_type": "display_data"
    }
   ],
   "source": [
    "plotImp(lgb_model, df_train[variables], 20)"
   ]
  },
  {
   "cell_type": "code",
   "execution_count": null,
   "metadata": {},
   "outputs": [],
   "source": []
  },
  {
   "cell_type": "code",
   "execution_count": null,
   "metadata": {},
   "outputs": [],
   "source": []
  }
 ],
 "metadata": {
  "kernelspec": {
   "display_name": "Python 3",
   "language": "python",
   "name": "python3"
  },
  "language_info": {
   "codemirror_mode": {
    "name": "ipython",
    "version": 3
   },
   "file_extension": ".py",
   "mimetype": "text/x-python",
   "name": "python",
   "nbconvert_exporter": "python",
   "pygments_lexer": "ipython3",
   "version": "3.7.7"
  },
  "toc": {
   "base_numbering": 1,
   "nav_menu": {},
   "number_sections": false,
   "sideBar": true,
   "skip_h1_title": false,
   "title_cell": "Table of Contents",
   "title_sidebar": "Contents",
   "toc_cell": false,
   "toc_position": {},
   "toc_section_display": true,
   "toc_window_display": false
  }
 },
 "nbformat": 4,
 "nbformat_minor": 4
}
