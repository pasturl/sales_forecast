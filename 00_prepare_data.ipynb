{
 "cells": [
  {
   "cell_type": "code",
   "execution_count": 1,
   "metadata": {
    "ExecuteTime": {
     "end_time": "2022-01-30T12:39:00.034247Z",
     "start_time": "2022-01-30T12:38:48.804528Z"
    },
    "colab": {
     "base_uri": "https://localhost:8080/"
    },
    "id": "FxT3tTEOkqQb",
    "outputId": "4fa4a763-bbb2-44ec-c865-85d0fe75ea44"
   },
   "outputs": [
    {
     "name": "stdout",
     "output_type": "stream",
     "text": [
      "Requirement already satisfied: kaggle in /opt/conda/lib/python3.7/site-packages (1.5.6)\n",
      "Requirement already satisfied: six>=1.10 in /opt/conda/lib/python3.7/site-packages (from kaggle) (1.15.0)\n",
      "Requirement already satisfied: requests in /opt/conda/lib/python3.7/site-packages (from kaggle) (2.24.0)\n",
      "Requirement already satisfied: tqdm in /opt/conda/lib/python3.7/site-packages (from kaggle) (4.48.2)\n",
      "Requirement already satisfied: certifi in /opt/conda/lib/python3.7/site-packages (from kaggle) (2020.6.20)\n",
      "Requirement already satisfied: python-dateutil in /opt/conda/lib/python3.7/site-packages (from kaggle) (2.8.1)\n",
      "Collecting urllib3<1.25,>=1.21.1\n",
      "  Downloading urllib3-1.24.3-py2.py3-none-any.whl (118 kB)\n",
      "\u001b[K     |████████████████████████████████| 118 kB 4.4 MB/s eta 0:00:01\n",
      "\u001b[?25hRequirement already satisfied: python-slugify in /opt/conda/lib/python3.7/site-packages (from kaggle) (4.0.1)\n",
      "Requirement already satisfied: idna<3,>=2.5 in /opt/conda/lib/python3.7/site-packages (from requests->kaggle) (2.10)\n",
      "Requirement already satisfied: chardet<4,>=3.0.2 in /opt/conda/lib/python3.7/site-packages (from requests->kaggle) (3.0.4)\n",
      "Requirement already satisfied: text-unidecode>=1.3 in /opt/conda/lib/python3.7/site-packages (from python-slugify->kaggle) (1.3)\n",
      "Installing collected packages: urllib3\n",
      "  Attempting uninstall: urllib3\n",
      "    Found existing installation: urllib3 1.25.10\n",
      "    Uninstalling urllib3-1.25.10:\n",
      "      Successfully uninstalled urllib3-1.25.10\n",
      "\u001b[31mERROR: After October 2020 you may experience errors when installing or updating packages. This is because pip will change the way that it resolves dependency conflicts.\n",
      "\n",
      "We recommend you use --use-feature=2020-resolver to test your packages with the new resolver before it becomes the default.\n",
      "\n",
      "pyppeteer 0.2.2 requires urllib3<2.0.0,>=1.25.8, but you'll have urllib3 1.24.3 which is incompatible.\n",
      "influxdb 5.3.0 requires msgpack==0.6.1, but you'll have msgpack 1.0.0 which is incompatible.\u001b[0m\n",
      "Successfully installed urllib3-1.24.3\n",
      "Collecting permetrics\n",
      "  Downloading permetrics-1.1.3-py3-none-any.whl (63 kB)\n",
      "\u001b[K     |████████████████████████████████| 63 kB 1.3 MB/s eta 0:00:011\n",
      "\u001b[?25hRequirement already satisfied: numpy in /opt/conda/lib/python3.7/site-packages (from permetrics) (1.19.1)\n",
      "Installing collected packages: permetrics\n",
      "Successfully installed permetrics-1.1.3\n"
     ]
    }
   ],
   "source": [
    "!pip install kaggle\n",
    "!pip install permetrics"
   ]
  },
  {
   "cell_type": "code",
   "execution_count": 2,
   "metadata": {
    "ExecuteTime": {
     "end_time": "2022-01-30T12:39:00.280691Z",
     "start_time": "2022-01-30T12:39:00.036587Z"
    },
    "colab": {
     "base_uri": "https://localhost:8080/"
    },
    "id": "3v4203X4l5wf",
    "outputId": "b036820e-996c-489c-b7fa-997f1a718b80"
   },
   "outputs": [],
   "source": [
    "! mkdir ~/.kaggle"
   ]
  },
  {
   "cell_type": "code",
   "execution_count": 3,
   "metadata": {
    "ExecuteTime": {
     "end_time": "2022-01-30T12:39:08.922402Z",
     "start_time": "2022-01-30T12:39:08.688415Z"
    },
    "id": "vB214tqPl8-I"
   },
   "outputs": [],
   "source": [
    "! cp kaggle.json ~/.kaggle/"
   ]
  },
  {
   "cell_type": "code",
   "execution_count": 4,
   "metadata": {
    "ExecuteTime": {
     "end_time": "2022-01-30T12:39:15.757600Z",
     "start_time": "2022-01-30T12:39:11.577369Z"
    },
    "colab": {
     "base_uri": "https://localhost:8080/"
    },
    "id": "9q_16e9okn3h",
    "outputId": "b3fca093-a5b6-46bb-af50-2689bbe08d29"
   },
   "outputs": [
    {
     "name": "stdout",
     "output_type": "stream",
     "text": [
      "Warning: Your Kaggle API key is readable by other users on this system! To fix this, you can run 'chmod 600 /root/.kaggle/kaggle.json'\n",
      "Downloading m5-forecasting-accuracy.zip to /workspace\n",
      " 98%|█████████████████████████████████████▎| 45.0M/45.8M [00:02<00:00, 20.6MB/s]\n",
      "100%|██████████████████████████████████████| 45.8M/45.8M [00:02<00:00, 18.4MB/s]\n"
     ]
    }
   ],
   "source": [
    "!kaggle competitions download -c m5-forecasting-accuracy"
   ]
  },
  {
   "cell_type": "code",
   "execution_count": 5,
   "metadata": {
    "ExecuteTime": {
     "end_time": "2022-01-30T12:39:30.235840Z",
     "start_time": "2022-01-30T12:39:27.077601Z"
    },
    "colab": {
     "base_uri": "https://localhost:8080/"
    },
    "id": "EK8DryTBmJLL",
    "outputId": "8d60c054-87bf-4b55-8f61-c19489bb604a"
   },
   "outputs": [
    {
     "name": "stdout",
     "output_type": "stream",
     "text": [
      "Archive:  m5-forecasting-accuracy.zip\n",
      "  inflating: calendar.csv            \n",
      "  inflating: sales_train_evaluation.csv  \n",
      "  inflating: sales_train_validation.csv  \n",
      "  inflating: sample_submission.csv   \n",
      "  inflating: sell_prices.csv         \n"
     ]
    }
   ],
   "source": [
    "!unzip m5-forecasting-accuracy.zip"
   ]
  },
  {
   "cell_type": "code",
   "execution_count": 1,
   "metadata": {
    "ExecuteTime": {
     "end_time": "2022-01-30T13:22:34.899384Z",
     "start_time": "2022-01-30T13:22:34.159127Z"
    },
    "id": "d324dc7f"
   },
   "outputs": [],
   "source": [
    "import pandas as pd\n",
    "import numpy as np\n",
    "from utils import *"
   ]
  },
  {
   "cell_type": "code",
   "execution_count": 2,
   "metadata": {
    "ExecuteTime": {
     "end_time": "2022-01-30T13:22:40.702956Z",
     "start_time": "2022-01-30T13:22:34.901653Z"
    },
    "id": "3a6c8a60"
   },
   "outputs": [],
   "source": [
    "path_m5 = \"./\"\n",
    "calendar = pd.read_csv(path_m5+\"calendar.csv\")\n",
    "prices = pd.read_csv(path_m5+\"sell_prices.csv\")\n",
    "sales = pd.read_csv(path_m5+\"sales_train_evaluation.csv\")"
   ]
  },
  {
   "cell_type": "code",
   "execution_count": 3,
   "metadata": {
    "ExecuteTime": {
     "end_time": "2022-01-30T13:22:40.709320Z",
     "start_time": "2022-01-30T13:22:40.705199Z"
    },
    "id": "KEFhoNAOu67P"
   },
   "outputs": [],
   "source": [
    "calendar = calendar.rename(columns={\"d\":\"day\"})"
   ]
  },
  {
   "cell_type": "code",
   "execution_count": 4,
   "metadata": {
    "ExecuteTime": {
     "end_time": "2022-01-30T13:24:10.472184Z",
     "start_time": "2022-01-30T13:22:40.711473Z"
    },
    "colab": {
     "base_uri": "https://localhost:8080/"
    },
    "id": "335b225f",
    "outputId": "7985026d-002e-42e0-88e1-35b137ac9b4e"
   },
   "outputs": [
    {
     "name": "stdout",
     "output_type": "stream",
     "text": [
      "Mem. usage decreased to  0.07 Mb (66.9% reduction)\n",
      "Mem. usage decreased to 95.14 Mb (79.0% reduction)\n",
      "Mem. usage decreased to 45.67 Mb (78.1% reduction)\n"
     ]
    }
   ],
   "source": [
    "calendar = encode_categorical(\n",
    "    calendar, [\"event_name_1\", \"event_type_1\", \"event_name_2\", \"event_type_2\"]\n",
    ").pipe(reduce_mem_usage)\n",
    "\n",
    "sales = encode_categorical(\n",
    "    sales, [\"item_id\", \"dept_id\", \"cat_id\", \"store_id\", \"state_id\"],\n",
    ").pipe(reduce_mem_usage)\n",
    "\n",
    "prices = encode_categorical(prices, [\"item_id\", \"store_id\"]).pipe(\n",
    "    reduce_mem_usage\n",
    ")"
   ]
  },
  {
   "cell_type": "code",
   "execution_count": 5,
   "metadata": {
    "ExecuteTime": {
     "end_time": "2022-01-30T13:24:13.847264Z",
     "start_time": "2022-01-30T13:24:10.474429Z"
    },
    "id": "VQflgavKPE6l"
   },
   "outputs": [],
   "source": [
    "prices_dates = pd.merge(prices, calendar[[\"wm_yr_wk\", \"date\", \"day\", \"weekday\", \"wday\", \"month\"]],\n",
    "                  on=\"wm_yr_wk\", how=\"left\")"
   ]
  },
  {
   "cell_type": "code",
   "execution_count": 6,
   "metadata": {
    "ExecuteTime": {
     "end_time": "2022-01-30T13:24:16.944366Z",
     "start_time": "2022-01-30T13:24:13.848792Z"
    },
    "id": "f419dcb6"
   },
   "outputs": [],
   "source": [
    "sales_ts = pd.melt(sales,\n",
    "                 id_vars = ['id', 'item_id', 'dept_id', 'cat_id', 'store_id', 'state_id'], \n",
    "                 var_name = 'day', value_name = 'demand')"
   ]
  },
  {
   "cell_type": "code",
   "execution_count": 7,
   "metadata": {
    "ExecuteTime": {
     "end_time": "2022-01-30T13:24:16.952714Z",
     "start_time": "2022-01-30T13:24:16.946115Z"
    }
   },
   "outputs": [],
   "source": [
    "del(sales)"
   ]
  },
  {
   "cell_type": "code",
   "execution_count": 8,
   "metadata": {
    "ExecuteTime": {
     "end_time": "2022-01-30T13:24:18.823217Z",
     "start_time": "2022-01-30T13:24:16.955924Z"
    },
    "id": "6rK1WmFJSgn5"
   },
   "outputs": [],
   "source": [
    "cols_group = ['item_id', 'store_id']\n",
    "prices_dates['full_price'] = prices_dates.groupby(cols_group)['sell_price'].transform('max')"
   ]
  },
  {
   "cell_type": "code",
   "execution_count": 9,
   "metadata": {
    "ExecuteTime": {
     "end_time": "2022-01-30T13:24:20.528007Z",
     "start_time": "2022-01-30T13:24:18.825224Z"
    },
    "id": "IL7-cd0ES7BI"
   },
   "outputs": [],
   "source": [
    "prices_dates['discount_pct'] = (prices_dates['full_price']-prices_dates['sell_price'])/prices_dates['full_price']*100"
   ]
  },
  {
   "cell_type": "code",
   "execution_count": 10,
   "metadata": {
    "ExecuteTime": {
     "end_time": "2022-01-30T13:24:50.066175Z",
     "start_time": "2022-01-30T13:24:20.530001Z"
    }
   },
   "outputs": [],
   "source": [
    "sales_ts = pd.merge(sales_ts, prices_dates[[\"day\", \"item_id\", \"store_id\", \"sell_price\", \"full_price\", \"discount_pct\"]], \n",
    "                    on=[\"day\", \"item_id\", \"store_id\"])\n"
   ]
  },
  {
   "cell_type": "code",
   "execution_count": 21,
   "metadata": {
    "ExecuteTime": {
     "end_time": "2022-01-30T13:31:16.297039Z",
     "start_time": "2022-01-30T13:31:13.532139Z"
    },
    "id": "rOelVo5pWg6A"
   },
   "outputs": [],
   "source": [
    "df_all = sales_ts.groupby(\"day\").agg({\"demand\":\"sum\", \n",
    "                                      \"sell_price\":\"mean\", \n",
    "                                      \"full_price\":\"mean\", \n",
    "                                      \"discount_pct\":\"mean\"}).reset_index()\n",
    "df_all = pd.merge(df_all, calendar[[\"day\", \"date\", \"weekday\", \"wday\", \"month\"]], on=\"day\", how=\"left\")\n",
    "df_all = df_all.rename(columns={\"date\":\"ds\", \"demand\":\"y\"})\n",
    "df_all['ds'] = df_all['ds'].astype(np.datetime64)"
   ]
  },
  {
   "cell_type": "code",
   "execution_count": 22,
   "metadata": {
    "ExecuteTime": {
     "end_time": "2022-01-30T13:31:16.315013Z",
     "start_time": "2022-01-30T13:31:16.298243Z"
    }
   },
   "outputs": [],
   "source": [
    "df_all.to_csv(\"sales_ms_all.csv\", index=False)"
   ]
  },
  {
   "cell_type": "code",
   "execution_count": 18,
   "metadata": {
    "ExecuteTime": {
     "end_time": "2022-01-30T13:30:57.538382Z",
     "start_time": "2022-01-30T13:30:53.826701Z"
    }
   },
   "outputs": [],
   "source": [
    "df_cat = sales_ts.groupby([\"cat_id\", \"day\"]).agg({\"demand\":\"sum\", \n",
    "                                      \"sell_price\":\"mean\", \n",
    "                                      \"full_price\":\"mean\", \n",
    "                                      \"discount_pct\":\"mean\"}).reset_index()\n",
    "df_cat = pd.merge(df_cat, calendar[[\"day\", \"date\", \"weekday\", \"wday\", \"month\"]], on=\"day\", how=\"left\")\n",
    "df_cat = df_cat.rename(columns={\"date\":\"ds\", \"demand\":\"y\"})\n",
    "df_cat['ds'] = df_cat['ds'].astype(np.datetime64)"
   ]
  },
  {
   "cell_type": "code",
   "execution_count": 19,
   "metadata": {
    "ExecuteTime": {
     "end_time": "2022-01-30T13:30:57.588923Z",
     "start_time": "2022-01-30T13:30:57.539656Z"
    }
   },
   "outputs": [],
   "source": [
    "df_cat.to_csv(\"sales_ms_cat.csv\", index=False)"
   ]
  },
  {
   "cell_type": "code",
   "execution_count": 20,
   "metadata": {
    "ExecuteTime": {
     "end_time": "2022-01-30T13:30:57.602689Z",
     "start_time": "2022-01-30T13:30:57.590806Z"
    }
   },
   "outputs": [
    {
     "data": {
      "text/html": [
       "<div>\n",
       "<style scoped>\n",
       "    .dataframe tbody tr th:only-of-type {\n",
       "        vertical-align: middle;\n",
       "    }\n",
       "\n",
       "    .dataframe tbody tr th {\n",
       "        vertical-align: top;\n",
       "    }\n",
       "\n",
       "    .dataframe thead th {\n",
       "        text-align: right;\n",
       "    }\n",
       "</style>\n",
       "<table border=\"1\" class=\"dataframe\">\n",
       "  <thead>\n",
       "    <tr style=\"text-align: right;\">\n",
       "      <th></th>\n",
       "      <th>cat_id</th>\n",
       "      <th>day</th>\n",
       "      <th>y</th>\n",
       "      <th>sell_price</th>\n",
       "      <th>full_price</th>\n",
       "      <th>discount_pct</th>\n",
       "      <th>ds</th>\n",
       "      <th>weekday</th>\n",
       "      <th>wday</th>\n",
       "      <th>month</th>\n",
       "    </tr>\n",
       "  </thead>\n",
       "  <tbody>\n",
       "    <tr>\n",
       "      <th>0</th>\n",
       "      <td>0</td>\n",
       "      <td>d_1</td>\n",
       "      <td>23178.0</td>\n",
       "      <td>2.957031</td>\n",
       "      <td>3.306641</td>\n",
       "      <td>10.210938</td>\n",
       "      <td>2011-01-29</td>\n",
       "      <td>Saturday</td>\n",
       "      <td>1</td>\n",
       "      <td>1</td>\n",
       "    </tr>\n",
       "    <tr>\n",
       "      <th>1</th>\n",
       "      <td>0</td>\n",
       "      <td>d_10</td>\n",
       "      <td>18901.0</td>\n",
       "      <td>2.994141</td>\n",
       "      <td>3.339844</td>\n",
       "      <td>10.093750</td>\n",
       "      <td>2011-02-07</td>\n",
       "      <td>Monday</td>\n",
       "      <td>3</td>\n",
       "      <td>2</td>\n",
       "    </tr>\n",
       "    <tr>\n",
       "      <th>2</th>\n",
       "      <td>0</td>\n",
       "      <td>d_100</td>\n",
       "      <td>16383.0</td>\n",
       "      <td>3.039062</td>\n",
       "      <td>3.388672</td>\n",
       "      <td>9.929688</td>\n",
       "      <td>2011-05-08</td>\n",
       "      <td>Sunday</td>\n",
       "      <td>2</td>\n",
       "      <td>5</td>\n",
       "    </tr>\n",
       "    <tr>\n",
       "      <th>3</th>\n",
       "      <td>0</td>\n",
       "      <td>d_1000</td>\n",
       "      <td>19276.0</td>\n",
       "      <td>3.224609</td>\n",
       "      <td>3.449219</td>\n",
       "      <td>6.144531</td>\n",
       "      <td>2013-10-24</td>\n",
       "      <td>Thursday</td>\n",
       "      <td>6</td>\n",
       "      <td>10</td>\n",
       "    </tr>\n",
       "    <tr>\n",
       "      <th>4</th>\n",
       "      <td>0</td>\n",
       "      <td>d_1001</td>\n",
       "      <td>22628.0</td>\n",
       "      <td>3.224609</td>\n",
       "      <td>3.449219</td>\n",
       "      <td>6.144531</td>\n",
       "      <td>2013-10-25</td>\n",
       "      <td>Friday</td>\n",
       "      <td>7</td>\n",
       "      <td>10</td>\n",
       "    </tr>\n",
       "  </tbody>\n",
       "</table>\n",
       "</div>"
      ],
      "text/plain": [
       "   cat_id     day        y  sell_price  full_price  discount_pct         ds  \\\n",
       "0       0     d_1  23178.0    2.957031    3.306641     10.210938 2011-01-29   \n",
       "1       0    d_10  18901.0    2.994141    3.339844     10.093750 2011-02-07   \n",
       "2       0   d_100  16383.0    3.039062    3.388672      9.929688 2011-05-08   \n",
       "3       0  d_1000  19276.0    3.224609    3.449219      6.144531 2013-10-24   \n",
       "4       0  d_1001  22628.0    3.224609    3.449219      6.144531 2013-10-25   \n",
       "\n",
       "    weekday  wday  month  \n",
       "0  Saturday     1      1  \n",
       "1    Monday     3      2  \n",
       "2    Sunday     2      5  \n",
       "3  Thursday     6     10  \n",
       "4    Friday     7     10  "
      ]
     },
     "execution_count": 20,
     "metadata": {},
     "output_type": "execute_result"
    }
   ],
   "source": [
    "df_cat.head()"
   ]
  },
  {
   "cell_type": "code",
   "execution_count": null,
   "metadata": {},
   "outputs": [],
   "source": []
  }
 ],
 "metadata": {
  "colab": {
   "collapsed_sections": [],
   "name": "hierarchical_forecast_m5.ipynb",
   "provenance": []
  },
  "kernelspec": {
   "display_name": "Python 3",
   "language": "python",
   "name": "python3"
  },
  "language_info": {
   "codemirror_mode": {
    "name": "ipython",
    "version": 3
   },
   "file_extension": ".py",
   "mimetype": "text/x-python",
   "name": "python",
   "nbconvert_exporter": "python",
   "pygments_lexer": "ipython3",
   "version": "3.7.7"
  },
  "toc": {
   "base_numbering": 1,
   "nav_menu": {},
   "number_sections": false,
   "sideBar": true,
   "skip_h1_title": false,
   "title_cell": "Table of Contents",
   "title_sidebar": "Contents",
   "toc_cell": false,
   "toc_position": {},
   "toc_section_display": true,
   "toc_window_display": false
  }
 },
 "nbformat": 4,
 "nbformat_minor": 5
}
