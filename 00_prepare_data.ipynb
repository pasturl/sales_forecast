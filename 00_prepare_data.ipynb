{
 "cells": [
  {
   "cell_type": "code",
   "execution_count": 2,
   "metadata": {
    "ExecuteTime": {
     "end_time": "2022-01-30T12:39:00.280691Z",
     "start_time": "2022-01-30T12:39:00.036587Z"
    },
    "colab": {
     "base_uri": "https://localhost:8080/"
    },
    "id": "3v4203X4l5wf",
    "outputId": "b036820e-996c-489c-b7fa-997f1a718b80"
   },
   "outputs": [],
   "source": [
    "! mkdir ~/.kaggle"
   ]
  },
  {
   "cell_type": "code",
   "execution_count": 3,
   "metadata": {
    "ExecuteTime": {
     "end_time": "2022-01-30T12:39:08.922402Z",
     "start_time": "2022-01-30T12:39:08.688415Z"
    },
    "id": "vB214tqPl8-I"
   },
   "outputs": [],
   "source": [
    "! cp kaggle.json ~/.kaggle/"
   ]
  },
  {
   "cell_type": "code",
   "execution_count": 4,
   "metadata": {
    "ExecuteTime": {
     "end_time": "2022-01-30T12:39:15.757600Z",
     "start_time": "2022-01-30T12:39:11.577369Z"
    },
    "colab": {
     "base_uri": "https://localhost:8080/"
    },
    "id": "9q_16e9okn3h",
    "outputId": "b3fca093-a5b6-46bb-af50-2689bbe08d29"
   },
   "outputs": [
    {
     "name": "stdout",
     "output_type": "stream",
     "text": [
      "Warning: Your Kaggle API key is readable by other users on this system! To fix this, you can run 'chmod 600 /root/.kaggle/kaggle.json'\n",
      "Downloading m5-forecasting-accuracy.zip to /workspace\n",
      " 98%|█████████████████████████████████████▎| 45.0M/45.8M [00:02<00:00, 20.6MB/s]\n",
      "100%|██████████████████████████████████████| 45.8M/45.8M [00:02<00:00, 18.4MB/s]\n"
     ]
    }
   ],
   "source": [
    "!kaggle competitions download -c m5-forecasting-accuracy"
   ]
  },
  {
   "cell_type": "code",
   "execution_count": 5,
   "metadata": {
    "ExecuteTime": {
     "end_time": "2022-01-30T12:39:30.235840Z",
     "start_time": "2022-01-30T12:39:27.077601Z"
    },
    "colab": {
     "base_uri": "https://localhost:8080/"
    },
    "id": "EK8DryTBmJLL",
    "outputId": "8d60c054-87bf-4b55-8f61-c19489bb604a"
   },
   "outputs": [
    {
     "name": "stdout",
     "output_type": "stream",
     "text": [
      "Archive:  m5-forecasting-accuracy.zip\n",
      "  inflating: calendar.csv            \n",
      "  inflating: sales_train_evaluation.csv  \n",
      "  inflating: sales_train_validation.csv  \n",
      "  inflating: sample_submission.csv   \n",
      "  inflating: sell_prices.csv         \n"
     ]
    }
   ],
   "source": [
    "!unzip m5-forecasting-accuracy.zip"
   ]
  },
  {
   "cell_type": "code",
   "execution_count": 1,
   "metadata": {
    "ExecuteTime": {
     "end_time": "2022-01-30T15:50:39.274798Z",
     "start_time": "2022-01-30T15:50:38.873250Z"
    },
    "id": "d324dc7f"
   },
   "outputs": [],
   "source": [
    "import pandas as pd\n",
    "import numpy as np\n",
    "from utils import *\n",
    "import plotly.graph_objects as go\n",
    "from plotly.subplots import make_subplots"
   ]
  },
  {
   "cell_type": "code",
   "execution_count": 2,
   "metadata": {
    "ExecuteTime": {
     "end_time": "2022-01-30T15:51:37.839473Z",
     "start_time": "2022-01-30T15:51:32.333060Z"
    },
    "id": "3a6c8a60"
   },
   "outputs": [],
   "source": [
    "path_m5 = \"./\"\n",
    "calendar = pd.read_csv(path_m5+\"calendar.csv\")\n",
    "prices = pd.read_csv(path_m5+\"sell_prices.csv\")\n",
    "sales_train = pd.read_csv(path_m5+\"sales_train_evaluation.csv\")\n",
    "sales_val = pd.read_csv(path_m5+\"sales_train_validation.csv\")"
   ]
  },
  {
   "cell_type": "code",
   "execution_count": 9,
   "metadata": {
    "ExecuteTime": {
     "end_time": "2022-01-30T15:53:20.408639Z",
     "start_time": "2022-01-30T15:53:20.079890Z"
    }
   },
   "outputs": [],
   "source": [
    "sales = pd.concat([sales_train, sales_val])"
   ]
  },
  {
   "cell_type": "code",
   "execution_count": 10,
   "metadata": {
    "ExecuteTime": {
     "end_time": "2022-01-30T15:53:21.171095Z",
     "start_time": "2022-01-30T15:53:21.159185Z"
    }
   },
   "outputs": [
    {
     "data": {
      "text/html": [
       "<div>\n",
       "<style scoped>\n",
       "    .dataframe tbody tr th:only-of-type {\n",
       "        vertical-align: middle;\n",
       "    }\n",
       "\n",
       "    .dataframe tbody tr th {\n",
       "        vertical-align: top;\n",
       "    }\n",
       "\n",
       "    .dataframe thead th {\n",
       "        text-align: right;\n",
       "    }\n",
       "</style>\n",
       "<table border=\"1\" class=\"dataframe\">\n",
       "  <thead>\n",
       "    <tr style=\"text-align: right;\">\n",
       "      <th></th>\n",
       "      <th>id</th>\n",
       "      <th>item_id</th>\n",
       "      <th>dept_id</th>\n",
       "      <th>cat_id</th>\n",
       "      <th>store_id</th>\n",
       "      <th>state_id</th>\n",
       "      <th>d_1</th>\n",
       "      <th>d_2</th>\n",
       "      <th>d_3</th>\n",
       "      <th>d_4</th>\n",
       "      <th>...</th>\n",
       "      <th>d_1904</th>\n",
       "      <th>d_1905</th>\n",
       "      <th>d_1906</th>\n",
       "      <th>d_1907</th>\n",
       "      <th>d_1908</th>\n",
       "      <th>d_1909</th>\n",
       "      <th>d_1910</th>\n",
       "      <th>d_1911</th>\n",
       "      <th>d_1912</th>\n",
       "      <th>d_1913</th>\n",
       "    </tr>\n",
       "  </thead>\n",
       "  <tbody>\n",
       "    <tr>\n",
       "      <th>0</th>\n",
       "      <td>HOBBIES_1_001_CA_1_validation</td>\n",
       "      <td>HOBBIES_1_001</td>\n",
       "      <td>HOBBIES_1</td>\n",
       "      <td>HOBBIES</td>\n",
       "      <td>CA_1</td>\n",
       "      <td>CA</td>\n",
       "      <td>0</td>\n",
       "      <td>0</td>\n",
       "      <td>0</td>\n",
       "      <td>0</td>\n",
       "      <td>...</td>\n",
       "      <td>1</td>\n",
       "      <td>3</td>\n",
       "      <td>0</td>\n",
       "      <td>1</td>\n",
       "      <td>1</td>\n",
       "      <td>1</td>\n",
       "      <td>3</td>\n",
       "      <td>0</td>\n",
       "      <td>1</td>\n",
       "      <td>1</td>\n",
       "    </tr>\n",
       "    <tr>\n",
       "      <th>1</th>\n",
       "      <td>HOBBIES_1_002_CA_1_validation</td>\n",
       "      <td>HOBBIES_1_002</td>\n",
       "      <td>HOBBIES_1</td>\n",
       "      <td>HOBBIES</td>\n",
       "      <td>CA_1</td>\n",
       "      <td>CA</td>\n",
       "      <td>0</td>\n",
       "      <td>0</td>\n",
       "      <td>0</td>\n",
       "      <td>0</td>\n",
       "      <td>...</td>\n",
       "      <td>0</td>\n",
       "      <td>0</td>\n",
       "      <td>0</td>\n",
       "      <td>0</td>\n",
       "      <td>0</td>\n",
       "      <td>1</td>\n",
       "      <td>0</td>\n",
       "      <td>0</td>\n",
       "      <td>0</td>\n",
       "      <td>0</td>\n",
       "    </tr>\n",
       "    <tr>\n",
       "      <th>2</th>\n",
       "      <td>HOBBIES_1_003_CA_1_validation</td>\n",
       "      <td>HOBBIES_1_003</td>\n",
       "      <td>HOBBIES_1</td>\n",
       "      <td>HOBBIES</td>\n",
       "      <td>CA_1</td>\n",
       "      <td>CA</td>\n",
       "      <td>0</td>\n",
       "      <td>0</td>\n",
       "      <td>0</td>\n",
       "      <td>0</td>\n",
       "      <td>...</td>\n",
       "      <td>2</td>\n",
       "      <td>1</td>\n",
       "      <td>2</td>\n",
       "      <td>1</td>\n",
       "      <td>1</td>\n",
       "      <td>1</td>\n",
       "      <td>0</td>\n",
       "      <td>1</td>\n",
       "      <td>1</td>\n",
       "      <td>1</td>\n",
       "    </tr>\n",
       "    <tr>\n",
       "      <th>3</th>\n",
       "      <td>HOBBIES_1_004_CA_1_validation</td>\n",
       "      <td>HOBBIES_1_004</td>\n",
       "      <td>HOBBIES_1</td>\n",
       "      <td>HOBBIES</td>\n",
       "      <td>CA_1</td>\n",
       "      <td>CA</td>\n",
       "      <td>0</td>\n",
       "      <td>0</td>\n",
       "      <td>0</td>\n",
       "      <td>0</td>\n",
       "      <td>...</td>\n",
       "      <td>1</td>\n",
       "      <td>0</td>\n",
       "      <td>5</td>\n",
       "      <td>4</td>\n",
       "      <td>1</td>\n",
       "      <td>0</td>\n",
       "      <td>1</td>\n",
       "      <td>3</td>\n",
       "      <td>7</td>\n",
       "      <td>2</td>\n",
       "    </tr>\n",
       "    <tr>\n",
       "      <th>4</th>\n",
       "      <td>HOBBIES_1_005_CA_1_validation</td>\n",
       "      <td>HOBBIES_1_005</td>\n",
       "      <td>HOBBIES_1</td>\n",
       "      <td>HOBBIES</td>\n",
       "      <td>CA_1</td>\n",
       "      <td>CA</td>\n",
       "      <td>0</td>\n",
       "      <td>0</td>\n",
       "      <td>0</td>\n",
       "      <td>0</td>\n",
       "      <td>...</td>\n",
       "      <td>2</td>\n",
       "      <td>1</td>\n",
       "      <td>1</td>\n",
       "      <td>0</td>\n",
       "      <td>1</td>\n",
       "      <td>1</td>\n",
       "      <td>2</td>\n",
       "      <td>2</td>\n",
       "      <td>2</td>\n",
       "      <td>4</td>\n",
       "    </tr>\n",
       "  </tbody>\n",
       "</table>\n",
       "<p>5 rows × 1919 columns</p>\n",
       "</div>"
      ],
      "text/plain": [
       "                              id        item_id    dept_id   cat_id store_id  \\\n",
       "0  HOBBIES_1_001_CA_1_validation  HOBBIES_1_001  HOBBIES_1  HOBBIES     CA_1   \n",
       "1  HOBBIES_1_002_CA_1_validation  HOBBIES_1_002  HOBBIES_1  HOBBIES     CA_1   \n",
       "2  HOBBIES_1_003_CA_1_validation  HOBBIES_1_003  HOBBIES_1  HOBBIES     CA_1   \n",
       "3  HOBBIES_1_004_CA_1_validation  HOBBIES_1_004  HOBBIES_1  HOBBIES     CA_1   \n",
       "4  HOBBIES_1_005_CA_1_validation  HOBBIES_1_005  HOBBIES_1  HOBBIES     CA_1   \n",
       "\n",
       "  state_id  d_1  d_2  d_3  d_4  ...  d_1904  d_1905  d_1906  d_1907  d_1908  \\\n",
       "0       CA    0    0    0    0  ...       1       3       0       1       1   \n",
       "1       CA    0    0    0    0  ...       0       0       0       0       0   \n",
       "2       CA    0    0    0    0  ...       2       1       2       1       1   \n",
       "3       CA    0    0    0    0  ...       1       0       5       4       1   \n",
       "4       CA    0    0    0    0  ...       2       1       1       0       1   \n",
       "\n",
       "   d_1909  d_1910  d_1911  d_1912  d_1913  \n",
       "0       1       3       0       1       1  \n",
       "1       1       0       0       0       0  \n",
       "2       1       0       1       1       1  \n",
       "3       0       1       3       7       2  \n",
       "4       1       2       2       2       4  \n",
       "\n",
       "[5 rows x 1919 columns]"
      ]
     },
     "execution_count": 10,
     "metadata": {},
     "output_type": "execute_result"
    }
   ],
   "source": [
    "sales_val.head()"
   ]
  },
  {
   "cell_type": "code",
   "execution_count": 11,
   "metadata": {
    "ExecuteTime": {
     "end_time": "2022-01-30T15:53:21.364687Z",
     "start_time": "2022-01-30T15:53:21.361271Z"
    },
    "id": "KEFhoNAOu67P"
   },
   "outputs": [],
   "source": [
    "calendar = calendar.rename(columns={\"d\":\"day\"})"
   ]
  },
  {
   "cell_type": "code",
   "execution_count": null,
   "metadata": {
    "ExecuteTime": {
     "start_time": "2022-01-30T15:53:21.532Z"
    },
    "colab": {
     "base_uri": "https://localhost:8080/"
    },
    "id": "335b225f",
    "outputId": "7985026d-002e-42e0-88e1-35b137ac9b4e"
   },
   "outputs": [
    {
     "name": "stdout",
     "output_type": "stream",
     "text": [
      "Mem. usage decreased to  0.07 Mb (66.9% reduction)\n"
     ]
    }
   ],
   "source": [
    "calendar = encode_categorical(\n",
    "    calendar, [\"event_name_1\", \"event_type_1\", \"event_name_2\", \"event_type_2\"]\n",
    ").pipe(reduce_mem_usage)\n",
    "\n",
    "sales = encode_categorical(\n",
    "    sales, [\"item_id\", \"dept_id\", \"cat_id\", \"store_id\", \"state_id\"],\n",
    ").pipe(reduce_mem_usage)\n",
    "\n",
    "prices = encode_categorical(prices, [\"item_id\", \"store_id\"]).pipe(\n",
    "    reduce_mem_usage\n",
    ")"
   ]
  },
  {
   "cell_type": "code",
   "execution_count": null,
   "metadata": {
    "ExecuteTime": {
     "start_time": "2022-01-30T15:53:21.699Z"
    },
    "id": "VQflgavKPE6l"
   },
   "outputs": [],
   "source": [
    "prices_dates = pd.merge(prices, calendar[[\"wm_yr_wk\", \"date\", \"day\", \"weekday\", \"wday\", \"month\"]],\n",
    "                  on=\"wm_yr_wk\", how=\"left\")"
   ]
  },
  {
   "cell_type": "code",
   "execution_count": null,
   "metadata": {
    "ExecuteTime": {
     "start_time": "2022-01-30T15:53:21.865Z"
    },
    "id": "f419dcb6"
   },
   "outputs": [],
   "source": [
    "sales_ts = pd.melt(sales,\n",
    "                 id_vars = ['id', 'item_id', 'dept_id', 'cat_id', 'store_id', 'state_id'], \n",
    "                 var_name = 'day', value_name = 'demand')"
   ]
  },
  {
   "cell_type": "code",
   "execution_count": null,
   "metadata": {
    "ExecuteTime": {
     "start_time": "2022-01-30T15:53:22.018Z"
    }
   },
   "outputs": [],
   "source": [
    "del(sales)"
   ]
  },
  {
   "cell_type": "code",
   "execution_count": null,
   "metadata": {
    "ExecuteTime": {
     "start_time": "2022-01-30T15:53:22.141Z"
    },
    "id": "6rK1WmFJSgn5"
   },
   "outputs": [],
   "source": [
    "cols_group = ['item_id', 'store_id']\n",
    "prices_dates['full_price'] = prices_dates.groupby(cols_group)['sell_price'].transform('max')"
   ]
  },
  {
   "cell_type": "code",
   "execution_count": null,
   "metadata": {
    "ExecuteTime": {
     "start_time": "2022-01-30T15:53:22.292Z"
    },
    "id": "IL7-cd0ES7BI"
   },
   "outputs": [],
   "source": [
    "prices_dates['discount_pct'] = (prices_dates['full_price']-prices_dates['sell_price'])/prices_dates['full_price']*100"
   ]
  },
  {
   "cell_type": "code",
   "execution_count": null,
   "metadata": {
    "ExecuteTime": {
     "start_time": "2022-01-30T15:53:22.457Z"
    }
   },
   "outputs": [],
   "source": [
    "sales_ts = pd.merge(sales_ts, prices_dates[[\"day\", \"item_id\", \"store_id\", \"sell_price\", \"full_price\", \"discount_pct\"]], \n",
    "                    on=[\"day\", \"item_id\", \"store_id\"])\n"
   ]
  },
  {
   "cell_type": "code",
   "execution_count": null,
   "metadata": {
    "ExecuteTime": {
     "start_time": "2022-01-30T15:53:22.551Z"
    },
    "id": "rOelVo5pWg6A"
   },
   "outputs": [],
   "source": [
    "df_all = sales_ts.groupby(\"day\").agg({\"demand\":\"sum\", \n",
    "                                      \"sell_price\":\"mean\", \n",
    "                                      \"full_price\":\"mean\", \n",
    "                                      \"discount_pct\":\"mean\"}).reset_index()\n",
    "df_all = pd.merge(df_all, calendar[[\"day\", \"date\", \"weekday\", \"wday\", \"month\"]], on=\"day\", how=\"left\")\n",
    "df_all = df_all.rename(columns={\"date\":\"ds\", \"demand\":\"y\"})\n",
    "df_all['ds'] = df_all['ds'].astype(np.datetime64)"
   ]
  },
  {
   "cell_type": "code",
   "execution_count": null,
   "metadata": {
    "ExecuteTime": {
     "start_time": "2022-01-30T15:53:22.706Z"
    }
   },
   "outputs": [],
   "source": [
    "df_all = df_all.sort_values(\"ds\")\n",
    "df_all.to_csv(\"sales_ms_all.csv\", index=False)"
   ]
  },
  {
   "cell_type": "code",
   "execution_count": null,
   "metadata": {
    "ExecuteTime": {
     "start_time": "2022-01-30T15:53:22.865Z"
    }
   },
   "outputs": [],
   "source": [
    "df_cat = sales_ts.groupby([\"cat_id\", \"day\"]).agg({\"demand\":\"sum\", \n",
    "                                      \"sell_price\":\"mean\", \n",
    "                                      \"full_price\":\"mean\", \n",
    "                                      \"discount_pct\":\"mean\"}).reset_index()\n",
    "df_cat = pd.merge(df_cat, calendar[[\"day\", \"date\", \"weekday\", \"wday\", \"month\"]], on=\"day\", how=\"left\")\n",
    "df_cat = df_cat.rename(columns={\"date\":\"ds\", \"demand\":\"y\"})\n",
    "df_cat['ds'] = df_cat['ds'].astype(np.datetime64)"
   ]
  },
  {
   "cell_type": "code",
   "execution_count": null,
   "metadata": {
    "ExecuteTime": {
     "start_time": "2022-01-30T15:53:22.982Z"
    }
   },
   "outputs": [],
   "source": [
    "df_cat = df_cat.sort_values(\"ds\")\n",
    "df_cat.to_csv(\"sales_ms_cat.csv\", index=False)"
   ]
  },
  {
   "cell_type": "code",
   "execution_count": null,
   "metadata": {
    "ExecuteTime": {
     "start_time": "2022-01-30T15:53:23.104Z"
    }
   },
   "outputs": [],
   "source": [
    "df_cat.head()"
   ]
  },
  {
   "cell_type": "code",
   "execution_count": null,
   "metadata": {
    "ExecuteTime": {
     "start_time": "2022-01-30T15:53:23.277Z"
    }
   },
   "outputs": [],
   "source": [
    "fig = make_subplots(specs=[[{\"secondary_y\": True}]])\n",
    "\n",
    "fig.add_trace(go.Scatter(x=df_all[\"ds\"], y=df_all[\"y\"],\n",
    "                          mode='lines',\n",
    "                          name='Sales',\n",
    "                          marker_color='rgb(121,121,121)'))\n",
    "\n",
    "fig.update_traces(mode='markers+lines')\n",
    "fig.update_xaxes(rangeslider_visible=True)\n",
    "fig.update_layout({\n",
    "    'height': 800,\n",
    "    'template': 'plotly_white',\n",
    "    'plot_bgcolor': 'rgba(0,0,0,0)',\n",
    "    'paper_bgcolor': 'rgba(0,0,0,0)',\n",
    "    'xaxis_title': 'Fecha',\n",
    "    'yaxis_title': 'Unidades',\n",
    "    'yaxis_tickformat': ',.0f',\n",
    "    'yaxis.rangemode': 'tozero',\n",
    "    'legend': {'orientation': 'h',\n",
    "                'yanchor': 'bottom',\n",
    "                'y': 1.02,\n",
    "                'xanchor': 'right',\n",
    "                'x': 1\n",
    "                }\n",
    "})"
   ]
  },
  {
   "cell_type": "code",
   "execution_count": null,
   "metadata": {},
   "outputs": [],
   "source": []
  }
 ],
 "metadata": {
  "colab": {
   "collapsed_sections": [],
   "name": "hierarchical_forecast_m5.ipynb",
   "provenance": []
  },
  "kernelspec": {
   "display_name": "Python 3",
   "language": "python",
   "name": "python3"
  },
  "language_info": {
   "codemirror_mode": {
    "name": "ipython",
    "version": 3
   },
   "file_extension": ".py",
   "mimetype": "text/x-python",
   "name": "python",
   "nbconvert_exporter": "python",
   "pygments_lexer": "ipython3",
   "version": "3.7.7"
  },
  "toc": {
   "base_numbering": 1,
   "nav_menu": {},
   "number_sections": false,
   "sideBar": true,
   "skip_h1_title": false,
   "title_cell": "Table of Contents",
   "title_sidebar": "Contents",
   "toc_cell": false,
   "toc_position": {},
   "toc_section_display": true,
   "toc_window_display": false
  }
 },
 "nbformat": 4,
 "nbformat_minor": 5
}
